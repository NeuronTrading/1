{
 "cells": [
  {
   "cell_type": "code",
   "execution_count": null,
   "id": "dbfa2f28",
   "metadata": {},
   "outputs": [],
   "source": [
    "import os\n",
    "import time\n",
    "# from mongo import MongoC\n",
    "from binance import Client\n",
    "# mongoClient = MongoC(host=os.getenv('MONGO_HOST', '172.17.0.1'))\n",
    "\n",
    "\n",
    "if __name__ == \"__main__\":\n",
    "    symbols = ['ADAUSDT', 'ALICEUSDT', 'ARUSDT', 'ATAUSDT', 'BCHUSDT', 'BNBUSDT', 'BTCUSDT', 'C98USDT', 'CHRUSDT',\n",
    "                'DENTUSDT', 'DOGEUSDT', 'ETHUSDT', 'GTOUSDT', 'ICPUSDT', 'LINKUSDT', 'LTCUSDT', 'MATICUSDT', 'SANDUSDT',\n",
    "                'SOLUSDT', 'SUPERUSDT', 'TRXUSDT', 'VETUSDT', 'XEMUSDT', 'XRPUSDT']\n",
    "    for symbol in symbols:\n",
    "        print('================================', symbol, ' start =============================')\n",
    "        tick_interval = \"1m\"\n",
    "        # mongo_collection_name = f\"spot_trades_{symbol.lower()}_{tick_interval}_candlestick\"\n",
    "        client = Client()\n",
    "        # last_timestamp_object = mongoClient.read_one_last(mongo_collection_name)\n",
    "        # if last_timestamp_object is None:\n",
    "        last_timestamp_object = {'closeTime': 0}\n",
    "\n",
    "        start_time = last_timestamp_object['closeTime']\n",
    "        print(start_time)\n",
    "        while True:\n",
    "            candles = client.get_klines(symbol=symbol, interval=tick_interval, startTime=start_time, endTime=None, limit=1000)\n",
    "            insert_list = []\n",
    "            for c in candles:\n",
    "                insert_list.append(\n",
    "                    {'openTime': int(c[0]), 'open': float(c[1]), 'high': float(c[2]),\n",
    "                    'low': float(c[3]), 'close': float(c[4]), 'volume': float(c[5]),\n",
    "                    'closeTime': int(c[6])}\n",
    "                )\n",
    "            if len(insert_list) < 1000:\n",
    "                insert_list.pop()\n",
    "            if len(insert_list):\n",
    "                print(insert_list)\n",
    "                # mongoClient.insert_many(mongo_collection_name, insert_list)\n",
    "            if len(insert_list):\n",
    "                print(0, insert_list[0])\n",
    "                print(len(insert_list)-1, insert_list[-1])\n",
    "                print()\n",
    "                start_time = insert_list[-1]['closeTime']\n",
    "            if len(insert_list) < 1000:\n",
    "                break"
   ]
  }
 ],
 "metadata": {
  "kernelspec": {
   "display_name": "Python 3 (ipykernel)",
   "language": "python",
   "name": "python3"
  },
  "language_info": {
   "codemirror_mode": {
    "name": "ipython",
    "version": 3
   },
   "file_extension": ".py",
   "mimetype": "text/x-python",
   "name": "python",
   "nbconvert_exporter": "python",
   "pygments_lexer": "ipython3",
   "version": "3.9.7"
  }
 },
 "nbformat": 4,
 "nbformat_minor": 5
}
