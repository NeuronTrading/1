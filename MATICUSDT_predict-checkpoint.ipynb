{
 "cells": [
  {
   "cell_type": "code",
   "execution_count": null,
   "metadata": {},
   "outputs": [],
   "source": [
    "import pandas as pd\n",
    "from datetime import datetime, timedelta\n",
    "from binance import Client\n",
    "import sched, time\n",
    "from ta import add_all_ta_features\n",
    "from ta.utils import dropna\n",
    "import warnings\n",
    "warnings.filterwarnings('ignore')\n",
    "import pickle\n",
    "import requests"
   ]
  },
  {
   "cell_type": "code",
   "execution_count": null,
   "metadata": {},
   "outputs": [],
   "source": [
    "def telegram_bot_sendtext(bot_message):\n",
    "    try:\n",
    "        bot_token = '5275451140:AAH9f6aVjMd0K6opDKn-qet6LA8dr6L52_8'\n",
    "        bot_chatID = '-1001588160937'\n",
    "        send_text = 'https://api.telegram.org/bot' + bot_token + '/sendMessage?chat_id=' + bot_chatID + '&parse_mode=Markdown&text=' + bot_message\n",
    "        response = requests.get(send_text)\n",
    "        return response.json()\n",
    "    except(e):\n",
    "        print(e)\n",
    "        print(\"Failed to send telegram message\")"
   ]
  },
  {
   "cell_type": "code",
   "execution_count": null,
   "metadata": {},
   "outputs": [],
   "source": [
    "tick_interval = \"1m\"\n",
    "sleep_time = 60\n",
    "samples = 100\n",
    "client = Client()\n",
    "symbol = 'MATICUSDT'\n",
    "last_prediction = -1"
   ]
  },
  {
   "cell_type": "code",
   "execution_count": null,
   "metadata": {},
   "outputs": [],
   "source": [
    "with open('RandomForest_depth_4.pickle', 'rb') as f:\n",
    "    clf = pickle.load(f)"
   ]
  },
  {
   "cell_type": "code",
   "execution_count": null,
   "metadata": {},
   "outputs": [],
   "source": [
    "df = pd.DataFrame({'openTime': pd.Series(dtype='int64'),\n",
    "                   'open': pd.Series(dtype='float64'),\n",
    "                   'high': pd.Series(dtype='float64'),\n",
    "                   'low': pd.Series(dtype='float64'),\n",
    "                   'close': pd.Series(dtype='float64'),\n",
    "                   'volume': pd.Series(dtype='float64'),\n",
    "                   'closeTime': pd.Series(dtype='int64')})"
   ]
  },
  {
   "cell_type": "code",
   "execution_count": null,
   "metadata": {},
   "outputs": [],
   "source": [
    "telegram_bot_sendtext('Start: ' + datetime.now().strftime(\"%Y/%m/%d, %H:%M:%S\"))\n",
    "s = sched.scheduler(time.time, time.sleep)\n",
    "\n",
    "def prediction_loop(): \n",
    "    global df\n",
    "    global clf\n",
    "    global last_prediction\n",
    "    \n",
    "    now = datetime.now()\n",
    "#     print('Time: ' + str(now))\n",
    "    startTime = int((now - timedelta(minutes=5)).timestamp() * 1000)\n",
    "    \n",
    "    if len(df) < 30:\n",
    "        fallBack = int((datetime.now() - timedelta(minutes=35)).timestamp() * 1000)\n",
    "        candles = client.get_klines(symbol=symbol, interval=tick_interval, startTime=fallBack, endTime=None, limit=50)\n",
    "        if len(candles) > 30:\n",
    "            candles = candles[-30:]\n",
    "    else:\n",
    "        candles = client.get_klines(symbol=symbol, interval=tick_interval, startTime=startTime, endTime=None, limit=10)\n",
    "        if len(candles) > 0:\n",
    "            candles = candles[-1:]\n",
    "            \n",
    "    if len(candles) > 0:\n",
    "        for candle in candles:\n",
    "            candle_df = pd.DataFrame({'openTime': pd.Series([int(candle[0])], dtype='int64'),\n",
    "                           'open': pd.Series([float(candle[1])], dtype='float64'),\n",
    "                           'high': pd.Series([float(candle[2])], dtype='float64'),\n",
    "                           'low': pd.Series([float(candle[3])], dtype='float64'),\n",
    "                           'close': pd.Series([float(candle[4])], dtype='float64'),\n",
    "                           'volume': pd.Series([float(candle[5])], dtype='float64'),\n",
    "                           'closeTime': pd.Series([int(candle[6])], dtype='int64')})\n",
    "            while len(df) >= samples:\n",
    "                df.drop([0], inplace=True)\n",
    "            df = df.append(candle_df, ignore_index=True)\n",
    "            \n",
    "#     print('\\nDATAFRAME: ')\n",
    "#     print(df)\n",
    "    \n",
    "    if len(df) >= 30:\n",
    "        df_ta = dropna(df)\n",
    "        df_ta = add_all_ta_features(\n",
    "            df_ta, open=\"open\", high=\"high\", low=\"low\", close=\"close\", volume=\"volume\")\n",
    "        df_ta = df_ta.fillna(0)\n",
    "\n",
    "        df_ta['openTime'] = pd.to_datetime(df_ta['openTime'])\n",
    "        df_ta['openTime'] = df_ta['openTime'].apply(lambda x: x.toordinal())\n",
    "        df_ta['closeTime'] = pd.to_datetime(df_ta['closeTime'])\n",
    "        df_ta['closeTime'] = df_ta['closeTime'].apply(lambda x: x.toordinal())\n",
    "\n",
    "        predictions = clf.predict(df_ta)\n",
    "#         print('Predictions: ' + str(predictions[-10:]))\n",
    "#         print('Last prediction: ' + str(last_prediction))\n",
    "        telegram_bot_sendtext('Signal: ' + str(int(predictions[-1])) + '; ' + str(now.strftime(\"%Y/%m/%d, %H:%M:%S\")) +\n",
    "                             '\\nPrice: ' + str(df_ta.iloc[len(df_ta) - 1]['close']))\n",
    "        \n",
    "        if last_prediction == 0 and predictions[-1] == 1:\n",
    "            telegram_bot_sendtext('BUY: ' + str(df_ta.iloc[len(df_ta) - 1]['close']))\n",
    "#             print('BUY: ' + str(df_ta.iloc[len(df_ta) - 1]['close']))\n",
    "            \n",
    "        elif last_prediction == 1 and predictions[-1] == 0:\n",
    "            telegram_bot_sendtext('SELL: ' + str(df_ta.iloc[len(df_ta) - 1]['close']))\n",
    "#             print('SELL: ' + str(df_ta.iloc[len(df_ta) - 1]['close']))\n",
    "            \n",
    "    last_prediction = predictions[-1]\n",
    "    \n",
    "    s.enter(60, 1, prediction_loop)\n",
    "\n",
    "s.enter(60, 1, prediction_loop)\n",
    "s.run()"
   ]
  }
 ],
 "metadata": {
  "kernelspec": {
   "display_name": "Python 3 (ipykernel)",
   "language": "python",
   "name": "python3"
  },
  "language_info": {
   "codemirror_mode": {
    "name": "ipython",
    "version": 3
   },
   "file_extension": ".py",
   "mimetype": "text/x-python",
   "name": "python",
   "nbconvert_exporter": "python",
   "pygments_lexer": "ipython3",
   "version": "3.9.7"
  }
 },
 "nbformat": 4,
 "nbformat_minor": 4
}
