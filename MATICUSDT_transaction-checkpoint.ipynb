{
 "cells": [
  {
   "cell_type": "code",
   "execution_count": 22,
   "metadata": {},
   "outputs": [],
   "source": [
    "import numpy as np\n",
    "import pandas as pd\n",
    "import pickle\n",
    "from tqdm.notebook import tqdm\n",
    "from sklearn.metrics import accuracy_score\n",
    "import warnings\n",
    "warnings.filterwarnings('ignore')"
   ]
  },
  {
   "cell_type": "code",
   "execution_count": 3,
   "metadata": {},
   "outputs": [
    {
     "name": "stderr",
     "output_type": "stream",
     "text": [
      "E:\\Anaconda3\\lib\\site-packages\\numpy\\lib\\arraysetops.py:580: FutureWarning: elementwise comparison failed; returning scalar instead, but in the future will perform elementwise comparison\n",
      "  mask |= (ar1 == a)\n"
     ]
    }
   ],
   "source": [
    "dataframe = pd.read_csv('MATICUSDT_signal.csv', delimiter=';', index_col=0)\n",
    "dataframe['openTime'] = pd.to_datetime(dataframe['openTime'])\n",
    "dataframe['closeTime'] = pd.to_datetime(dataframe['closeTime'])"
   ]
  },
  {
   "cell_type": "code",
   "execution_count": 4,
   "metadata": {},
   "outputs": [],
   "source": [
    "num_test = int(len(dataframe) / 5)"
   ]
  },
  {
   "cell_type": "code",
   "execution_count": 5,
   "metadata": {},
   "outputs": [],
   "source": [
    "dataframe_test = dataframe[-num_test:]"
   ]
  },
  {
   "cell_type": "code",
   "execution_count": 21,
   "metadata": {},
   "outputs": [],
   "source": [
    "def get_deals(df):\n",
    "    deal_count = 0\n",
    "    good_deal_count = 0\n",
    "    bad_deal_count = 0\n",
    "    gain = 0\n",
    "    loss = 0\n",
    "    prev_deal = df.iloc[0].close\n",
    "    for i in tqdm(range(len(df) - 1)):\n",
    "        signal = df.iloc[i].signal\n",
    "        next_signal = df.iloc[i + 1].signal\n",
    "        if signal == 0 and next_signal == 1:\n",
    "            # buy\n",
    "            prev_deal = df.iloc[i].close\n",
    "        if signal == 1 and next_signal == 0:\n",
    "            # sell\n",
    "            deal_count += 1\n",
    "            deal = ((df.iloc[i].close - prev_deal) * 100)/prev_deal - prev_deal * 0.002\n",
    "            if deal >= 0:\n",
    "                good_deal_count += 1\n",
    "                gain += deal\n",
    "            else:\n",
    "                bad_deal_count += 1\n",
    "                loss += deal\n",
    "    print('Deal count: ' + str(deal_count))\n",
    "    print('Good deals: ' + str(good_deal_count))\n",
    "    print('Bad deals: ' + str(bad_deal_count))\n",
    "    print('Gain: ' + str(gain))\n",
    "    print('Loss: ' + str(loss))\n",
    "    print('PROFIT: ' + str(gain + loss))"
   ]
  },
  {
   "cell_type": "code",
   "execution_count": 12,
   "metadata": {},
   "outputs": [
    {
     "data": {
      "application/vnd.jupyter.widget-view+json": {
       "model_id": "a96f180c9ec54576916732918cdcfea1",
       "version_major": 2,
       "version_minor": 0
      },
      "text/plain": [
       "HBox(children=(FloatProgress(value=0.0, max=291080.0), HTML(value='')))"
      ]
     },
     "metadata": {},
     "output_type": "display_data"
    },
    {
     "name": "stdout",
     "output_type": "stream",
     "text": [
      "\n",
      "Deal count: 4056\n",
      "Good deals: 1588\n",
      "Bad deals: 440\n",
      "Gain: 2329.720318486396\n",
      "Loss: -98.56208182372187\n",
      "PROFIT: 2231.1582366626744\n"
     ]
    }
   ],
   "source": [
    "get_deals(dataframe_test)"
   ]
  },
  {
   "cell_type": "code",
   "execution_count": 14,
   "metadata": {},
   "outputs": [
    {
     "name": "stderr",
     "output_type": "stream",
     "text": [
      "E:\\Anaconda3\\lib\\site-packages\\numpy\\lib\\arraysetops.py:580: FutureWarning: elementwise comparison failed; returning scalar instead, but in the future will perform elementwise comparison\n",
      "  mask |= (ar1 == a)\n"
     ]
    }
   ],
   "source": [
    "ta = pd.read_csv('MATICUSDT_TA.csv', delimiter=';', index_col=0)\n",
    "ta['openTime'] = pd.to_datetime(ta['openTime'])\n",
    "ta['openTime'] = ta['openTime'].apply(lambda x: x.toordinal())\n",
    "ta['closeTime'] = pd.to_datetime(ta['closeTime'])\n",
    "ta['closeTime'] = ta['closeTime'].apply(lambda x: x.toordinal())\n",
    "ta = ta[~ta.isin([np.inf, -np.inf]).any(1)]\n",
    "y = ta['signal']\n",
    "ta.drop(['signal'], axis=1, inplace=True)\n",
    "x_test = ta[-num_test:]\n",
    "y_test = y[-num_test:]"
   ]
  },
  {
   "cell_type": "code",
   "execution_count": 16,
   "metadata": {},
   "outputs": [],
   "source": [
    "with open('RandomForest_depth_4.pickle', 'rb') as f:\n",
    "    my_clf = pickle.load(f)"
   ]
  },
  {
   "cell_type": "code",
   "execution_count": 17,
   "metadata": {},
   "outputs": [
    {
     "name": "stderr",
     "output_type": "stream",
     "text": [
      "[Parallel(n_jobs=1)]: Using backend SequentialBackend with 1 concurrent workers.\n",
      "[Parallel(n_jobs=1)]: Done   1 out of   1 | elapsed:    0.0s remaining:    0.0s\n",
      "[Parallel(n_jobs=1)]: Done 100 out of 100 | elapsed:    1.1s finished\n"
     ]
    }
   ],
   "source": [
    "my_signal = my_clf.predict(x_test)"
   ]
  },
  {
   "cell_type": "code",
   "execution_count": 19,
   "metadata": {},
   "outputs": [
    {
     "name": "stderr",
     "output_type": "stream",
     "text": [
      "<ipython-input-19-2fbc8b51c4b3>:1: SettingWithCopyWarning: \n",
      "A value is trying to be set on a copy of a slice from a DataFrame.\n",
      "Try using .loc[row_indexer,col_indexer] = value instead\n",
      "\n",
      "See the caveats in the documentation: https://pandas.pydata.org/pandas-docs/stable/user_guide/indexing.html#returning-a-view-versus-a-copy\n",
      "  x_test['signal'] = my_signal\n"
     ]
    }
   ],
   "source": [
    "x_test['signal'] = my_signal"
   ]
  },
  {
   "cell_type": "code",
   "execution_count": 20,
   "metadata": {},
   "outputs": [
    {
     "data": {
      "application/vnd.jupyter.widget-view+json": {
       "model_id": "1957fa473dcf433e9ec477ed05c81872",
       "version_major": 2,
       "version_minor": 0
      },
      "text/plain": [
       "HBox(children=(FloatProgress(value=0.0, max=291080.0), HTML(value='')))"
      ]
     },
     "metadata": {},
     "output_type": "display_data"
    },
    {
     "name": "stdout",
     "output_type": "stream",
     "text": [
      "\n",
      "Deal count: 11140\n",
      "Good deals: 2983\n",
      "Bad deals: 2587\n",
      "Gain: 2213.656783219407\n",
      "Loss: -525.4266637274601\n",
      "PROFIT: 1688.2301194919469\n"
     ]
    }
   ],
   "source": [
    "get_deals(x_test)"
   ]
  },
  {
   "cell_type": "code",
   "execution_count": 71,
   "metadata": {},
   "outputs": [],
   "source": [
    "x_test.to_csv('x_test.csv', sep=';')"
   ]
  }
 ],
 "metadata": {
  "kernelspec": {
   "display_name": "Python 3 (ipykernel)",
   "language": "python",
   "name": "python3"
  },
  "language_info": {
   "codemirror_mode": {
    "name": "ipython",
    "version": 3
   },
   "file_extension": ".py",
   "mimetype": "text/x-python",
   "name": "python",
   "nbconvert_exporter": "python",
   "pygments_lexer": "ipython3",
   "version": "3.9.7"
  }
 },
 "nbformat": 4,
 "nbformat_minor": 4
}
