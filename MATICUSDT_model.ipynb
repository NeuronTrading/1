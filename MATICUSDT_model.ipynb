{
 "cells": [
  {
   "cell_type": "code",
   "execution_count": 1,
   "metadata": {},
   "outputs": [],
   "source": [
    "import numpy as np\n",
    "import pandas as pd\n",
    "\n",
    "from scipy.signal import find_peaks\n",
    "from datetime import datetime, timedelta\n",
    "from statsmodels.tsa.api import Holt\n",
    "\n",
    "from ta import add_all_ta_features\n",
    "from ta.utils import dropna\n",
    "from copy import deepcopy\n",
    "from tqdm.notebook import tqdm\n",
    "\n",
    "import warnings\n",
    "warnings.filterwarnings('ignore')\n",
    "\n",
    "from sklearn.ensemble import RandomForestClassifier\n",
    "from sklearn.metrics import accuracy_score, classification_report\n",
    "import pickle\n",
    "\n",
    "pd.set_option('display.max_columns', None)"
   ]
  },
  {
   "cell_type": "code",
   "execution_count": 2,
   "metadata": {},
   "outputs": [],
   "source": [
    "dataframe = pd.read_csv('MATICUSDT_list.csv', delimiter=';', names=[\n",
    "    'openTime',\n",
    "    'open',\n",
    "    'high',\n",
    "    'low',\n",
    "    'close',\n",
    "    'volume',\n",
    "    'closeTime'\n",
    "])"
   ]
  },
  {
   "cell_type": "code",
   "execution_count": 3,
   "metadata": {},
   "outputs": [],
   "source": [
    "num_test = int(len(dataframe) / 5)"
   ]
  },
  {
   "cell_type": "code",
   "execution_count": 4,
   "metadata": {},
   "outputs": [],
   "source": [
    "dataframe['openTime'] = pd.to_datetime(dataframe['openTime'])\n",
    "dataframe['closeTime'] = pd.to_datetime(dataframe['closeTime'])"
   ]
  },
  {
   "cell_type": "code",
   "execution_count": 5,
   "metadata": {},
   "outputs": [],
   "source": [
    "data = list(dataframe['close'])\n",
    "index = dataframe['closeTime']\n",
    "livestock = pd.Series(data, index)"
   ]
  },
  {
   "cell_type": "code",
   "execution_count": 6,
   "metadata": {},
   "outputs": [],
   "source": [
    "fit = Holt(livestock, exponential=True).fit(0.06, 0.06, optimized=False)"
   ]
  },
  {
   "cell_type": "code",
   "execution_count": 7,
   "metadata": {},
   "outputs": [],
   "source": [
    "def delete_adjacent_extremums(values, peaks_, mins_, extremums_):\n",
    "    for j in range(len(extremums_) - 1):\n",
    "        if extremums_[j] in peaks_:\n",
    "            peak_count = 1\n",
    "            if extremums_[j + 1] in mins_:\n",
    "                j += 1\n",
    "            else:\n",
    "                while extremums_[j + peak_count] in peaks_:\n",
    "                    peak_count += 1\n",
    "                max_pack = deepcopy(extremums_[[tuple(range(j, j + peak_count))]])\n",
    "                maximum_index = extremums_[j + values[extremums_[[tuple(range(j, j + peak_count))]]].argmax()]\n",
    "                to_delete = deepcopy(max_pack[np.where(max_pack != maximum_index)])\n",
    "                for d in to_delete:\n",
    "                    peaks_ = np.delete(peaks_, np.argwhere(peaks_ == d))\n",
    "        else:\n",
    "            min_count = 1\n",
    "            if extremums_[j + 1] in peaks_:\n",
    "                j += 1\n",
    "            else:\n",
    "                while extremums_[j + min_count] in mins_:\n",
    "                    min_count += 1\n",
    "                min_pack = deepcopy(extremums[[tuple(range(j, j + min_count))]])\n",
    "                minimum_index = extremums_[j + values[extremums_[[tuple(range(j, j + min_count))]]].argmin()]\n",
    "                to_delete = deepcopy(min_pack[np.where(min_pack != minimum_index)])\n",
    "                for d in to_delete:\n",
    "                    mins_ = np.delete(mins_, np.argwhere(mins_ == d))\n",
    "                j += min_count\n",
    "    extremums_ = np.sort(np.concatenate([peaks_, mins_]))\n",
    "    return peaks_, mins_, extremums_"
   ]
  },
  {
   "cell_type": "code",
   "execution_count": 8,
   "metadata": {},
   "outputs": [],
   "source": [
    "day = datetime.strptime('2022-01-03', '%Y-%m-%d')\n",
    "start_timestamp = pd.Timestamp(day.strftime('%Y-%m-%d'))\n",
    "finish_timestamp = pd.Timestamp((day + timedelta(days=1)).strftime('%Y-%m-%d'))\n",
    "\n",
    "extremum_width = int(len(dataframe.loc[(dataframe['closeTime'] >= start_timestamp) & (dataframe['closeTime'] <= finish_timestamp)])/70)\n",
    "extremum_prominence = fit.fittedvalues.mean()/1000\n",
    "peaks, _ = find_peaks(fit.fittedvalues, width=extremum_width, prominence=extremum_prominence)\n",
    "mins, _ = find_peaks(fit.fittedvalues*-1, width=extremum_width, prominence=extremum_prominence)\n",
    "extremums = np.sort(np.concatenate([peaks, mins]))\n",
    "\n",
    "peaks, mins, extremums = delete_adjacent_extremums(fit.fittedvalues, peaks, mins, extremums)"
   ]
  },
  {
   "cell_type": "code",
   "execution_count": 9,
   "metadata": {},
   "outputs": [
    {
     "name": "stdout",
     "output_type": "stream",
     "text": [
      "Peaks count: 8811\n",
      "Mins count: 8811\n"
     ]
    }
   ],
   "source": [
    "print(\"Peaks count: \" + str(len(peaks)))\n",
    "print(\"Mins count: \" + str(len(mins)))\n",
    "assert len(extremums) == len(peaks) + len(mins), 'We lost an extremum'"
   ]
  },
  {
   "cell_type": "code",
   "execution_count": 10,
   "metadata": {},
   "outputs": [
    {
     "data": {
      "application/vnd.jupyter.widget-view+json": {
       "model_id": "f86101953f49442280482799adb8d75c",
       "version_major": 2,
       "version_minor": 0
      },
      "text/plain": [
       "HBox(children=(FloatProgress(value=0.0, max=1455406.0), HTML(value='')))"
      ]
     },
     "metadata": {},
     "output_type": "display_data"
    },
    {
     "name": "stdout",
     "output_type": "stream",
     "text": [
      "\n"
     ]
    }
   ],
   "source": [
    "signals = np.array([])\n",
    "if peaks[0] < mins[0]:\n",
    "    signal = True\n",
    "else:\n",
    "    signal = False\n",
    "for i in tqdm(range(len(dataframe))):\n",
    "    signals = np.append(signals, signal)\n",
    "    if i in extremums:\n",
    "        signal = not signal"
   ]
  },
  {
   "cell_type": "code",
   "execution_count": 11,
   "metadata": {},
   "outputs": [],
   "source": [
    "dataframe['signal'] = signals\n",
    "# dataframe.to_csv('MATICUSDT_signal.csv', sep=';')"
   ]
  },
  {
   "cell_type": "code",
   "execution_count": 12,
   "metadata": {},
   "outputs": [],
   "source": [
    "dataframe_train = dataframe[:-num_test]\n",
    "dataframe_test = dataframe[-num_test:]\n",
    "signal_train = deepcopy(dataframe_train['signal'])\n",
    "dataframe_train.drop(['signal'], axis=1, inplace=True)\n",
    "signal_test = deepcopy(dataframe_test['signal'])\n",
    "dataframe_test.drop(['signal'], axis=1, inplace=True)"
   ]
  },
  {
   "cell_type": "code",
   "execution_count": null,
   "metadata": {},
   "outputs": [],
   "source": [
    "df_train = dropna(dataframe_train)\n",
    "df_train = add_all_ta_features(\n",
    "    df_train, open=\"open\", high=\"high\", low=\"low\", close=\"close\", volume=\"volume\")\n",
    "\n",
    "df_train = df_train.fillna(0)"
   ]
  },
  {
   "cell_type": "code",
   "execution_count": null,
   "metadata": {},
   "outputs": [],
   "source": [
    "df_test = dropna(dataframe_test)\n",
    "df_test = add_all_ta_features(\n",
    "    df_test, open=\"open\", high=\"high\", low=\"low\", close=\"close\", volume=\"volume\")\n",
    "\n",
    "df_test = df_test.fillna(0)"
   ]
  },
  {
   "cell_type": "code",
   "execution_count": 15,
   "metadata": {},
   "outputs": [
    {
     "name": "stdout",
     "output_type": "stream",
     "text": [
      "1123 infinite values.\n"
     ]
    }
   ],
   "source": [
    "before = len(df_train) + len(df_test)\n",
    "df_train = df_train[~df_train.isin([np.inf, -np.inf]).any(1)]\n",
    "df_test = df_test[~df_test.isin([np.inf, -np.inf]).any(1)]\n",
    "after = len(df_train) + len(df_test)\n",
    "print(str(before - after) + ' infinite values.')"
   ]
  },
  {
   "cell_type": "code",
   "execution_count": 16,
   "metadata": {},
   "outputs": [
    {
     "name": "stdout",
     "output_type": "stream",
     "text": [
      "Train signal: [502573 500166]\n",
      "Test signal: [145127 145954]\n"
     ]
    }
   ],
   "source": [
    "df_train['signal'] = signal_train\n",
    "df_test['signal'] = signal_test\n",
    "print('Train signal: ' + str(np.bincount(df_train['signal'])))\n",
    "print('Test signal: ' + str(np.bincount(df_test['signal'])))"
   ]
  },
  {
   "cell_type": "code",
   "execution_count": 17,
   "metadata": {},
   "outputs": [],
   "source": [
    "# df_train.to_csv('MATICUSDT_TA_train.csv', sep=';')\n",
    "# df_test.to_csv('MATICUSDT_TA_test.csv', sep=';')"
   ]
  },
  {
   "cell_type": "code",
   "execution_count": 18,
   "metadata": {},
   "outputs": [],
   "source": [
    "df_train['openTime'] = df_train['openTime'].apply(lambda x: x.toordinal())\n",
    "df_train['closeTime'] = df_train['closeTime'].apply(lambda x: x.toordinal())\n",
    "df_test['openTime'] = df_test['openTime'].apply(lambda x: x.toordinal())\n",
    "df_test['closeTime'] = df_test['closeTime'].apply(lambda x: x.toordinal())"
   ]
  },
  {
   "cell_type": "code",
   "execution_count": 19,
   "metadata": {},
   "outputs": [],
   "source": [
    "y_train = df_train['signal']\n",
    "df_train.drop(['signal'], axis=1, inplace=True)\n",
    "y_test = df_test['signal']\n",
    "df_test.drop(['signal'], axis=1, inplace=True)"
   ]
  },
  {
   "cell_type": "code",
   "execution_count": 20,
   "metadata": {},
   "outputs": [
    {
     "name": "stdout",
     "output_type": "stream",
     "text": [
      "Train shape: (1002739, 93)\n",
      "Train signal: 1002739\n",
      "Test shape: (291081, 93)\n",
      "Test signal: 291081\n"
     ]
    }
   ],
   "source": [
    "print('Train shape: ' + str(df_train.shape))\n",
    "print('Train signal: ' + str(len(y_train)))\n",
    "print('Test shape: ' + str(df_test.shape))\n",
    "print('Test signal: ' + str(len(y_test)))"
   ]
  },
  {
   "cell_type": "code",
   "execution_count": 21,
   "metadata": {},
   "outputs": [
    {
     "name": "stderr",
     "output_type": "stream",
     "text": [
      "[Parallel(n_jobs=1)]: Using backend SequentialBackend with 1 concurrent workers.\n"
     ]
    },
    {
     "name": "stdout",
     "output_type": "stream",
     "text": [
      "building tree 1 of 100\n"
     ]
    },
    {
     "name": "stderr",
     "output_type": "stream",
     "text": [
      "[Parallel(n_jobs=1)]: Done   1 out of   1 | elapsed:    2.2s remaining:    0.0s\n"
     ]
    },
    {
     "name": "stdout",
     "output_type": "stream",
     "text": [
      "building tree 2 of 100\n",
      "building tree 3 of 100\n",
      "building tree 4 of 100\n",
      "building tree 5 of 100\n",
      "building tree 6 of 100\n",
      "building tree 7 of 100\n",
      "building tree 8 of 100\n",
      "building tree 9 of 100\n",
      "building tree 10 of 100\n",
      "building tree 11 of 100\n",
      "building tree 12 of 100\n",
      "building tree 13 of 100\n",
      "building tree 14 of 100\n",
      "building tree 15 of 100\n",
      "building tree 16 of 100\n",
      "building tree 17 of 100\n",
      "building tree 18 of 100\n",
      "building tree 19 of 100\n",
      "building tree 20 of 100\n",
      "building tree 21 of 100\n",
      "building tree 22 of 100\n",
      "building tree 23 of 100\n",
      "building tree 24 of 100\n",
      "building tree 25 of 100\n",
      "building tree 26 of 100\n",
      "building tree 27 of 100\n",
      "building tree 28 of 100\n",
      "building tree 29 of 100\n",
      "building tree 30 of 100\n",
      "building tree 31 of 100\n",
      "building tree 32 of 100\n",
      "building tree 33 of 100\n",
      "building tree 34 of 100\n",
      "building tree 35 of 100\n",
      "building tree 36 of 100\n",
      "building tree 37 of 100\n",
      "building tree 38 of 100\n",
      "building tree 39 of 100\n",
      "building tree 40 of 100\n",
      "building tree 41 of 100\n",
      "building tree 42 of 100\n",
      "building tree 43 of 100\n",
      "building tree 44 of 100\n",
      "building tree 45 of 100\n",
      "building tree 46 of 100\n",
      "building tree 47 of 100\n",
      "building tree 48 of 100\n",
      "building tree 49 of 100\n",
      "building tree 50 of 100\n",
      "building tree 51 of 100\n",
      "building tree 52 of 100\n",
      "building tree 53 of 100\n",
      "building tree 54 of 100\n",
      "building tree 55 of 100\n",
      "building tree 56 of 100\n",
      "building tree 57 of 100\n",
      "building tree 58 of 100\n",
      "building tree 59 of 100\n",
      "building tree 60 of 100\n",
      "building tree 61 of 100\n",
      "building tree 62 of 100\n",
      "building tree 63 of 100\n",
      "building tree 64 of 100\n",
      "building tree 65 of 100\n",
      "building tree 66 of 100\n",
      "building tree 67 of 100\n",
      "building tree 68 of 100\n",
      "building tree 69 of 100\n",
      "building tree 70 of 100\n",
      "building tree 71 of 100\n",
      "building tree 72 of 100\n",
      "building tree 73 of 100\n",
      "building tree 74 of 100\n",
      "building tree 75 of 100\n",
      "building tree 76 of 100\n",
      "building tree 77 of 100\n",
      "building tree 78 of 100\n",
      "building tree 79 of 100\n",
      "building tree 80 of 100\n",
      "building tree 81 of 100\n",
      "building tree 82 of 100\n",
      "building tree 83 of 100\n",
      "building tree 84 of 100\n",
      "building tree 85 of 100\n",
      "building tree 86 of 100\n",
      "building tree 87 of 100\n",
      "building tree 88 of 100\n",
      "building tree 89 of 100\n",
      "building tree 90 of 100\n",
      "building tree 91 of 100\n",
      "building tree 92 of 100\n",
      "building tree 93 of 100\n",
      "building tree 94 of 100\n",
      "building tree 95 of 100\n",
      "building tree 96 of 100\n",
      "building tree 97 of 100\n",
      "building tree 98 of 100\n",
      "building tree 99 of 100\n",
      "building tree 100 of 100\n"
     ]
    },
    {
     "name": "stderr",
     "output_type": "stream",
     "text": [
      "[Parallel(n_jobs=1)]: Done 100 out of 100 | elapsed:  3.7min finished\n"
     ]
    },
    {
     "data": {
      "text/plain": [
       "RandomForestClassifier(max_depth=4, random_state=17, verbose=2)"
      ]
     },
     "execution_count": 21,
     "metadata": {},
     "output_type": "execute_result"
    }
   ],
   "source": [
    "clf = RandomForestClassifier(max_depth=4, random_state=17, verbose=2)\n",
    "clf.fit(df_train, y_train)"
   ]
  },
  {
   "cell_type": "code",
   "execution_count": 22,
   "metadata": {},
   "outputs": [
    {
     "name": "stderr",
     "output_type": "stream",
     "text": [
      "[Parallel(n_jobs=1)]: Using backend SequentialBackend with 1 concurrent workers.\n",
      "[Parallel(n_jobs=1)]: Done   1 out of   1 | elapsed:    0.0s remaining:    0.0s\n"
     ]
    },
    {
     "name": "stdout",
     "output_type": "stream",
     "text": [
      "0.8990315410487115\n"
     ]
    },
    {
     "name": "stderr",
     "output_type": "stream",
     "text": [
      "[Parallel(n_jobs=1)]: Done 100 out of 100 | elapsed:    1.1s finished\n"
     ]
    }
   ],
   "source": [
    "preds = clf.predict(df_test)\n",
    "print(accuracy_score(preds, y_test))"
   ]
  },
  {
   "cell_type": "code",
   "execution_count": 23,
   "metadata": {},
   "outputs": [],
   "source": [
    "with open('RandomForest_depth_4.pickle', 'wb') as out:\n",
    "    pickle.dump(clf, out)"
   ]
  }
 ],
 "metadata": {
  "kernelspec": {
   "display_name": "Python 3",
   "language": "python",
   "name": "python3"
  },
  "language_info": {
   "codemirror_mode": {
    "name": "ipython",
    "version": 3
   },
   "file_extension": ".py",
   "mimetype": "text/x-python",
   "name": "python",
   "nbconvert_exporter": "python",
   "pygments_lexer": "ipython3",
   "version": "3.8.3"
  }
 },
 "nbformat": 4,
 "nbformat_minor": 4
}
